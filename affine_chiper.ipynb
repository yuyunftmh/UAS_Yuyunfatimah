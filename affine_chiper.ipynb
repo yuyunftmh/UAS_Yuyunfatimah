{
  "nbformat": 4,
  "nbformat_minor": 0,
  "metadata": {
    "colab": {
      "provenance": [],
      "authorship_tag": "ABX9TyOnU8VUPkmArwo1eLyzcsbJ",
      "include_colab_link": true
    },
    "kernelspec": {
      "name": "python3",
      "display_name": "Python 3"
    },
    "language_info": {
      "name": "python"
    }
  },
  "cells": [
    {
      "cell_type": "markdown",
      "metadata": {
        "id": "view-in-github",
        "colab_type": "text"
      },
      "source": [
        "<a href=\"https://colab.research.google.com/github/yuyunftmh/UAS_Yuyunfatimah/blob/master/affine_chiper.ipynb\" target=\"_parent\"><img src=\"https://colab.research.google.com/assets/colab-badge.svg\" alt=\"Open In Colab\"/></a>"
      ]
    },
    {
      "cell_type": "code",
      "execution_count": null,
      "metadata": {
        "colab": {
          "base_uri": "https://localhost:8080/"
        },
        "id": "kVLYm00A_P46",
        "outputId": "935e4c2c-3763-40a2-b469-d7825c69db27"
      },
      "outputs": [
        {
          "output_type": "stream",
          "name": "stdout",
          "text": [
            "Encrypted Text: RCLLA\n",
            "Decrypted Text: HELLO\n"
          ]
        }
      ],
      "source": [
        "def gcd(a, b):\n",
        "    while b:\n",
        "        a, b = b, a % b\n",
        "    return a\n",
        "\n",
        "def mod_inverse(a, m):\n",
        "    for i in range(26):\n",
        "        if (a * i) % m == 1:\n",
        "            return i\n",
        "    return None\n",
        "\n",
        "def encrypt(plain_text, a, b):\n",
        "    encrypted_text = \"\"\n",
        "    for char in plain_text:\n",
        "        if char.isalpha():\n",
        "            if char.isupper():\n",
        "                encrypted_text += chr((a * (ord(char) - ord('A')) + b) % 26 + ord('A'))\n",
        "            else:\n",
        "                encrypted_text += chr((a * (ord(char) - ord('a')) + b) % 26 + ord('a'))\n",
        "        else:\n",
        "            encrypted_text += char\n",
        "    return encrypted_text\n",
        "\n",
        "def decrypt(encrypted_text, a, b):\n",
        "    decrypted_text = \"\"\n",
        "    a_inv = mod_inverse(a, 26)\n",
        "\n",
        "    if a_inv is None:\n",
        "        raise ValueError(\"The key 'a' must be chosen such that it is coprime with 26.\")\n",
        "\n",
        "    for char in encrypted_text:\n",
        "        if char.isalpha():\n",
        "            if char.isupper():\n",
        "                decrypted_text += chr((a_inv * (ord(char) - ord('A') - b)) % 26 + ord('A'))\n",
        "            else:\n",
        "                decrypted_text += chr((a_inv * (ord(char) - ord('a') - b)) % 26 + ord('a'))\n",
        "        else:\n",
        "            decrypted_text += char\n",
        "    return decrypted_text\n",
        "\n",
        "# Contoh penggunaan\n",
        "plain_text = \"HELLO\"\n",
        "a = 5\n",
        "b = 8\n",
        "\n",
        "encrypted_text = encrypt(plain_text, a, b)\n",
        "print(\"Encrypted Text:\", encrypted_text)\n",
        "\n",
        "decrypted_text = decrypt(encrypted_text, a, b)\n",
        "print(\"Decrypted Text:\", decrypted_text)\n"
      ]
    }
  ]
}