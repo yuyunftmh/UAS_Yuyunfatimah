{
  "nbformat": 4,
  "nbformat_minor": 0,
  "metadata": {
    "colab": {
      "provenance": [],
      "authorship_tag": "ABX9TyNa2ApCRh3d49x85KHQ+7GH",
      "include_colab_link": true
    },
    "kernelspec": {
      "name": "python3",
      "display_name": "Python 3"
    },
    "language_info": {
      "name": "python"
    }
  },
  "cells": [
    {
      "cell_type": "markdown",
      "metadata": {
        "id": "view-in-github",
        "colab_type": "text"
      },
      "source": [
        "<a href=\"https://colab.research.google.com/github/yuyunftmh/UAS_Yuyunfatimah/blob/master/Yuyun_Fatimah_312110216.ipynb\" target=\"_parent\"><img src=\"https://colab.research.google.com/assets/colab-badge.svg\" alt=\"Open In Colab\"/></a>"
      ]
    },
    {
      "cell_type": "code",
      "execution_count": null,
      "metadata": {
        "colab": {
          "base_uri": "https://localhost:8080/"
        },
        "id": "t_pEeXYch6gU",
        "outputId": "04f479e5-ba41-4095-b39a-5d42f49cb40c"
      },
      "outputs": [
        {
          "output_type": "stream",
          "name": "stdout",
          "text": [
            "Username: Yuyun Fatimah\n",
            "Encrypted Password: 4321\n",
            "Login successful!\n"
          ]
        }
      ],
      "source": [
        "def vigenere_encrypt(plain_text, key):\n",
        "    encrypted_text = ''\n",
        "    key_repeated = key * (len(plain_text) // len(key)) + key[:len(plain_text) % len(key)]\n",
        "\n",
        "    for i in range(len(plain_text)):\n",
        "        char = plain_text[i]\n",
        "        if char.isalpha():\n",
        "            shift = ord(key_repeated[i].upper()) - ord('A')\n",
        "            if char.isupper():\n",
        "                encrypted_text += chr((ord(char) + shift - 65) % 26 + 65)\n",
        "            else:\n",
        "                encrypted_text += chr((ord(char) + shift - 97) % 26 + 97)\n",
        "        else:\n",
        "            encrypted_text += char\n",
        "\n",
        "    return encrypted_text\n",
        "\n",
        "\n",
        "def vigenere_decrypt(encrypted_text, key):\n",
        "    decrypted_text = ''\n",
        "    key_repeated = key * (len(encrypted_text) // len(key)) + key[:len(encrypted_text) % len(key)]\n",
        "\n",
        "    for i in range(len(encrypted_text)):\n",
        "        char = encrypted_text[i]\n",
        "        if char.isalpha():\n",
        "            shift = ord(key_repeated[i].upper()) - ord('A')\n",
        "            if char.isupper():\n",
        "                decrypted_text += chr((ord(char) - shift - 65) % 26 + 65)\n",
        "            else:\n",
        "                decrypted_text += chr((ord(char) - shift - 97) % 26 + 97)\n",
        "        else:\n",
        "            decrypted_text += char\n",
        "\n",
        "    return decrypted_text\n",
        "\n",
        "\n",
        "# Fungsi untuk melakukan proses login\n",
        "def login(username, password, key):\n",
        "    encrypted_password = vigenere_encrypt(password, key)\n",
        "    # Simpan username dan password (yang telah dienkripsi) ke database atau tempat penyimpanan data\n",
        "    # Di sini kita hanya mencetaknya sebagai contoh\n",
        "    print(\"Username:\", username)\n",
        "    print(\"Encrypted Password:\", encrypted_password)\n",
        "    print(\"Login successful!\")\n",
        "\n",
        "# Contoh penggunaan\n",
        "username = \"Yuyun Fatimah\"\n",
        "password = \"4321\"\n",
        "key = \"KEY\"  # Kunci untuk Vigenere Cipher\n",
        "\n",
        "# Proses login\n",
        "login(username, password, key)\n"
      ]
    }
  ]
}