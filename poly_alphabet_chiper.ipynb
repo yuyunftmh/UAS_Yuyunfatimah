{
  "nbformat": 4,
  "nbformat_minor": 0,
  "metadata": {
    "colab": {
      "provenance": [],
      "authorship_tag": "ABX9TyOohhfy228Y42ePD/7Kj5eH",
      "include_colab_link": true
    },
    "kernelspec": {
      "name": "python3",
      "display_name": "Python 3"
    },
    "language_info": {
      "name": "python"
    }
  },
  "cells": [
    {
      "cell_type": "markdown",
      "metadata": {
        "id": "view-in-github",
        "colab_type": "text"
      },
      "source": [
        "<a href=\"https://colab.research.google.com/github/yuyunftmh/UAS_Yuyunfatimah/blob/master/poly_alphabet_chiper.ipynb\" target=\"_parent\"><img src=\"https://colab.research.google.com/assets/colab-badge.svg\" alt=\"Open In Colab\"/></a>"
      ]
    },
    {
      "cell_type": "code",
      "execution_count": null,
      "metadata": {
        "colab": {
          "base_uri": "https://localhost:8080/"
        },
        "id": "QbiSyWCA9HhV",
        "outputId": "565a65d8-5f9b-4a5c-830a-cd6e38dcb826"
      },
      "outputs": [
        {
          "output_type": "stream",
          "name": "stdout",
          "text": [
            "Encrypted Text: Rijvs, Uyvjn!\n",
            "Decrypted Text: Hello, World!\n"
          ]
        }
      ],
      "source": [
        "def encrypt(plain_text, key):\n",
        "    encrypted_text = \"\"\n",
        "    key_index = 0\n",
        "\n",
        "    for char in plain_text:\n",
        "        if char.isalpha():\n",
        "            # Menentukan nilai pergeseran berdasarkan huruf kunci\n",
        "            key_shift = ord(key[key_index % len(key)].upper()) - ord('A')\n",
        "\n",
        "            # Enkripsi huruf\n",
        "            if char.isupper():\n",
        "                encrypted_text += chr((ord(char) + key_shift - ord('A')) % 26 + ord('A'))\n",
        "            else:\n",
        "                encrypted_text += chr((ord(char) + key_shift - ord('a')) % 26 + ord('a'))\n",
        "\n",
        "            key_index += 1\n",
        "        else:\n",
        "            # Menjaga karakter non-alphabetic tidak berubah\n",
        "            encrypted_text += char\n",
        "\n",
        "    return encrypted_text\n",
        "\n",
        "def decrypt(encrypted_text, key):\n",
        "    decrypted_text = \"\"\n",
        "    key_index = 0\n",
        "\n",
        "    for char in encrypted_text:\n",
        "        if char.isalpha():\n",
        "            # Menentukan nilai pergeseran berdasarkan huruf kunci\n",
        "            key_shift = ord(key[key_index % len(key)].upper()) - ord('A')\n",
        "\n",
        "            # Dekripsi huruf\n",
        "            if char.isupper():\n",
        "                decrypted_text += chr((ord(char) - key_shift - ord('A')) % 26 + ord('A'))\n",
        "            else:\n",
        "                decrypted_text += chr((ord(char) - key_shift - ord('a')) % 26 + ord('a'))\n",
        "\n",
        "            key_index += 1\n",
        "        else:\n",
        "            # Menjaga karakter non-alphabetic tidak berubah\n",
        "            decrypted_text += char\n",
        "\n",
        "    return decrypted_text\n",
        "\n",
        "# Contoh penggunaan\n",
        "plain_text = \"Hello, World!\"\n",
        "key = \"KEY\"\n",
        "\n",
        "encrypted_text = encrypt(plain_text, key)\n",
        "print(\"Encrypted Text:\", encrypted_text)\n",
        "\n",
        "decrypted_text = decrypt(encrypted_text, key)\n",
        "print(\"Decrypted Text:\", decrypted_text)\n"
      ]
    },
    {
      "cell_type": "code",
      "source": [],
      "metadata": {
        "id": "4W7Q_YGk_JDW"
      },
      "execution_count": null,
      "outputs": []
    },
    {
      "cell_type": "code",
      "source": [
        "import numpy as np\n",
        "\n",
        "def gcd(a, b):\n",
        "    while b:\n",
        "        a, b = b, a % b\n",
        "    return a\n",
        "\n",
        "def mod_inverse(a, m):\n",
        "    for i in range(26):\n",
        "        if (a * i) % m == 1:\n",
        "            return i\n",
        "    return None\n",
        "\n",
        "def matrix_inverse(matrix):\n",
        "    det = int(round(np.linalg.det(matrix)))\n",
        "    det_inv = mod_inverse(det, 26)\n",
        "\n",
        "    if det_inv is None:\n",
        "        raise ValueError(\"Matrix is not invertible.\")\n",
        "\n",
        "    adjugate = np.round(det * np.linalg.inv(matrix)).astype(int)\n",
        "    inverse = (det_inv * adjugate) % 26\n",
        "\n",
        "    return inverse\n",
        "\n",
        "def matrix_to_text(matrix):\n",
        "    return ''.join([chr(i + 65) for row in matrix for i in row])\n",
        "\n",
        "def text_to_matrix(text, size):\n",
        "    matrix = []\n",
        "\n",
        "    for char in text:\n",
        "        if char.isalpha():\n",
        "            matrix.append(ord(char.upper()) - 65)\n",
        "\n",
        "    while len(matrix) % size != 0:\n",
        "        matrix.append(0)\n",
        "\n",
        "    return np.array(matrix).reshape(-1, size)\n",
        "\n",
        "def encrypt(plain_text, key):\n",
        "    key_matrix = np.array(key).reshape(-1, len(key))\n",
        "    plain_matrix = text_to_matrix(plain_text, len(key))\n",
        "\n",
        "    cipher_matrix = np.dot(plain_matrix, key_matrix) % 26\n",
        "    cipher_text = matrix_to_text(cipher_matrix)\n",
        "\n",
        "    return cipher_text\n",
        "\n",
        "def decrypt(cipher_text, key):\n",
        "    key_matrix = np.array(key).reshape(-1, len(key))\n",
        "    key_inverse = matrix_inverse(key_matrix)\n",
        "\n",
        "    cipher_matrix = text_to_matrix(cipher_text, len(key))\n",
        "    plain_matrix = np.dot(cipher_matrix, key_inverse) % 26\n",
        "    plain_text = matrix_to_text(plain_matrix)\n",
        "\n",
        "    return plain_text\n",
        "\n",
        "# Contoh penggunaan\n",
        "plain_text = \"HELLO\"\n",
        "key = [[6, 24, 1], [13, 16, 10], [20, 17, 15]]\n",
        "\n",
        "cipher_text = encrypt(plain_text, key)\n",
        "print(\"Encrypted Text:\", cipher_text)\n",
        "\n",
        "decrypted_text = decrypt(cipher_text, key)\n",
        "print(\"Decrypted Text:\", decrypted_text)\n"
      ],
      "metadata": {
        "colab": {
          "base_uri": "https://localhost:8080/"
        },
        "id": "G-MFKc-f9XPY",
        "outputId": "1f7d877e-29cd-4ea1-fd20-103b573554d7"
      },
      "execution_count": null,
      "outputs": [
        {
          "output_type": "stream",
          "name": "stdout",
          "text": [
            "Encrypted Text: CDEOUV\n",
            "Decrypted Text: HELLOA\n"
          ]
        }
      ]
    },
    {
      "cell_type": "code",
      "source": [],
      "metadata": {
        "id": "mjPtlAXR9rD7"
      },
      "execution_count": null,
      "outputs": []
    }
  ]
}